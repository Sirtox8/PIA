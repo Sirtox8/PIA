{
 "cells": [
  {
   "cell_type": "markdown",
   "metadata": {},
   "source": [
    "1. Crear y visualizar un arreglo unidimensional como una estructura Series."
   ]
  },
  {
   "cell_type": "code",
   "execution_count": 21,
   "metadata": {},
   "outputs": [
    {
     "name": "stdout",
     "output_type": "stream",
     "text": [
      "0    10\n",
      "1    20\n",
      "2    30\n",
      "3    40\n",
      "4    50\n",
      "dtype: int64\n"
     ]
    }
   ],
   "source": [
    "import pandas as pd\n",
    "\n",
    "# Crear un arreglo unidimensional (lista) de datos\n",
    "datos = [10, 20, 30, 40, 50]\n",
    "\n",
    "# Crear la Serie con pandas\n",
    "serie = pd.Series(datos)\n",
    "\n",
    "# Visualizar la Serie\n",
    "print(serie)"
   ]
  },
  {
   "cell_type": "markdown",
   "metadata": {},
   "source": [
    "2. Convertir un objeto Series a una lista Python."
   ]
  },
  {
   "cell_type": "code",
   "execution_count": 1,
   "metadata": {},
   "outputs": [
    {
     "name": "stdout",
     "output_type": "stream",
     "text": [
      "[10, 20, 30, 40, 50]\n"
     ]
    }
   ],
   "source": [
    "import pandas as pd\n",
    "\n",
    "# Crear un arreglo unidimensional (lista) de datos\n",
    "datos = [10, 20, 30, 40, 50]\n",
    "\n",
    "# Crear la Serie con pandas\n",
    "serie = pd.Series(datos)\n",
    "\n",
    "# Convertir la Serie a una lista\n",
    "lista = serie.tolist()\n",
    "\n",
    "# Visualizar la lista\n",
    "print(lista)\n"
   ]
  },
  {
   "cell_type": "markdown",
   "metadata": {},
   "source": [
    "3. Aplicar las operaciones aritméticas básicas (suma, resta, multiplicación y división) sobre objetos Series."
   ]
  },
  {
   "cell_type": "code",
   "execution_count": 3,
   "metadata": {},
   "outputs": [
    {
     "name": "stdout",
     "output_type": "stream",
     "text": [
      "Suma:\n",
      "0    15\n",
      "1    30\n",
      "2    45\n",
      "3    60\n",
      "4    75\n",
      "dtype: int64\n",
      "\n",
      "Resta:\n",
      "0     5\n",
      "1    10\n",
      "2    15\n",
      "3    20\n",
      "4    25\n",
      "dtype: int64\n",
      "\n",
      "Multiplicación:\n",
      "0      50\n",
      "1     200\n",
      "2     450\n",
      "3     800\n",
      "4    1250\n",
      "dtype: int64\n",
      "\n",
      "División:\n",
      "0    2.0\n",
      "1    2.0\n",
      "2    2.0\n",
      "3    2.0\n",
      "4    2.0\n",
      "dtype: float64\n"
     ]
    }
   ],
   "source": [
    "import pandas as pd\n",
    "\n",
    "# Crear dos Series de ejemplo\n",
    "serie1 = pd.Series([10, 20, 30, 40, 50])\n",
    "serie2 = pd.Series([5, 10, 15, 20, 25])\n",
    "\n",
    "# Suma\n",
    "suma = serie1 + serie2\n",
    "print(\"Suma:\")\n",
    "print(suma)\n",
    "\n",
    "# Resta\n",
    "resta = serie1 - serie2\n",
    "print(\"\\nResta:\")\n",
    "print(resta)\n",
    "\n",
    "# Multiplicación\n",
    "multiplicacion = serie1 * serie2\n",
    "print(\"\\nMultiplicación:\")\n",
    "print(multiplicacion)\n",
    "\n",
    "# División\n",
    "division = serie1 / serie2\n",
    "print(\"\\nDivisión:\")\n",
    "print(division)\n"
   ]
  },
  {
   "cell_type": "markdown",
   "metadata": {},
   "source": [
    "4. Usar operadores relacionales para comparar objetos Series."
   ]
  },
  {
   "cell_type": "code",
   "execution_count": 4,
   "metadata": {},
   "outputs": [
    {
     "name": "stdout",
     "output_type": "stream",
     "text": [
      "Mayor que:\n",
      "0    False\n",
      "1    False\n",
      "2     True\n",
      "3    False\n",
      "4    False\n",
      "dtype: bool\n",
      "\n",
      "Menor que:\n",
      "0     True\n",
      "1    False\n",
      "2    False\n",
      "3    False\n",
      "4     True\n",
      "dtype: bool\n",
      "\n",
      "Igual que:\n",
      "0    False\n",
      "1     True\n",
      "2    False\n",
      "3     True\n",
      "4    False\n",
      "dtype: bool\n",
      "\n",
      "Mayor o igual que:\n",
      "0    False\n",
      "1     True\n",
      "2     True\n",
      "3     True\n",
      "4    False\n",
      "dtype: bool\n",
      "\n",
      "Menor o igual que:\n",
      "0     True\n",
      "1     True\n",
      "2    False\n",
      "3     True\n",
      "4     True\n",
      "dtype: bool\n"
     ]
    }
   ],
   "source": [
    "import pandas as pd\n",
    "\n",
    "# Crear dos Series de ejemplo\n",
    "serie1 = pd.Series([10, 20, 30, 40, 50])\n",
    "serie2 = pd.Series([25, 20, 15, 40, 60])\n",
    "\n",
    "# Comparaciones\n",
    "mayor = serie1 > serie2          # Mayor que\n",
    "menor = serie1 < serie2          # Menor que\n",
    "igual = serie1 == serie2         # Igual que\n",
    "mayor_igual = serie1 >= serie2   # Mayor o igual que\n",
    "menor_igual = serie1 <= serie2   # Menor o igual que\n",
    "\n",
    "# Imprimir resultados\n",
    "print(\"Mayor que:\")\n",
    "print(mayor)\n",
    "\n",
    "print(\"\\nMenor que:\")\n",
    "print(menor)\n",
    "\n",
    "print(\"\\nIgual que:\")\n",
    "print(igual)\n",
    "\n",
    "print(\"\\nMayor o igual que:\")\n",
    "print(mayor_igual)\n",
    "\n",
    "print(\"\\nMenor o igual que:\")\n",
    "print(menor_igual)\n"
   ]
  },
  {
   "cell_type": "markdown",
   "metadata": {},
   "source": [
    "5. Convertir un diccionario Python en un objeto Series."
   ]
  },
  {
   "cell_type": "code",
   "execution_count": 5,
   "metadata": {},
   "outputs": [
    {
     "name": "stdout",
     "output_type": "stream",
     "text": [
      "a    10\n",
      "b    20\n",
      "c    30\n",
      "d    40\n",
      "e    50\n",
      "dtype: int64\n"
     ]
    }
   ],
   "source": [
    "import pandas as pd\n",
    "\n",
    "# Crear un diccionario de ejemplo\n",
    "diccionario = {\n",
    "    'a': 10,\n",
    "    'b': 20,\n",
    "    'c': 30,\n",
    "    'd': 40,\n",
    "    'e': 50\n",
    "}\n",
    "\n",
    "# Convertir el diccionario a una Serie\n",
    "serie = pd.Series(diccionario)\n",
    "\n",
    "# Visualizar la Serie\n",
    "print(serie)\n"
   ]
  },
  {
   "cell_type": "markdown",
   "metadata": {},
   "source": [
    "6. Convertir un arreglo NumPy en un objeto Series."
   ]
  },
  {
   "cell_type": "code",
   "execution_count": 10,
   "metadata": {},
   "outputs": [
    {
     "name": "stdout",
     "output_type": "stream",
     "text": [
      "0    10\n",
      "1    20\n",
      "2    30\n",
      "3    40\n",
      "4    50\n",
      "dtype: int64\n"
     ]
    }
   ],
   "source": [
    "import pandas as pd\n",
    "import numpy as np\n",
    "\n",
    "# Crear un arreglo NumPy de ejemplo\n",
    "arreglo_numpy = np.array([10, 20, 30, 40, 50])\n",
    "\n",
    "# Convertir el arreglo NumPy a una Serie\n",
    "serie = pd.Series(arreglo_numpy)\n",
    "\n",
    "# Visualizar la Serie\n",
    "print(serie)\n"
   ]
  },
  {
   "cell_type": "markdown",
   "metadata": {},
   "source": [
    "7. Cambiar el tipo de datos de un objeto Series."
   ]
  },
  {
   "cell_type": "code",
   "execution_count": 11,
   "metadata": {},
   "outputs": [
    {
     "name": "stdout",
     "output_type": "stream",
     "text": [
      "Tipo de datos original:\n",
      "int64\n",
      "\n",
      "Serie convertida a float:\n",
      "0    1.0\n",
      "1    2.0\n",
      "2    3.0\n",
      "3    4.0\n",
      "4    5.0\n",
      "dtype: float64\n",
      "Tipo de datos convertido:\n",
      "float64\n"
     ]
    }
   ],
   "source": [
    "import pandas as pd\n",
    "\n",
    "# Crear una Serie de ejemplo con tipo de datos entero\n",
    "serie = pd.Series([1, 2, 3, 4, 5])\n",
    "\n",
    "# Mostrar tipo de datos original\n",
    "print(\"Tipo de datos original:\")\n",
    "print(serie.dtypes)\n",
    "\n",
    "# Cambiar el tipo de datos a float\n",
    "serie_float = serie.astype(float)\n",
    "print(\"\\nSerie convertida a float:\")\n",
    "print(serie_float)\n",
    "print(\"Tipo de datos convertido:\")\n",
    "print(serie_float.dtypes)"
   ]
  },
  {
   "cell_type": "markdown",
   "metadata": {},
   "source": [
    "8. Convertir un objeto Series con múltiples listas en un único objeto Series.\n"
   ]
  },
  {
   "cell_type": "code",
   "execution_count": 12,
   "metadata": {},
   "outputs": [
    {
     "name": "stdout",
     "output_type": "stream",
     "text": [
      "Serie original:\n",
      "0    [Colombia, Perú, Argentina]\n",
      "1             [Bolivia, Uruguay]\n",
      "2                        [Chile]\n",
      "dtype: object\n",
      "\n",
      "Serie resultante después de explode():\n",
      "0     Colombia\n",
      "0         Perú\n",
      "0    Argentina\n",
      "1      Bolivia\n",
      "1      Uruguay\n",
      "2        Chile\n",
      "dtype: object\n"
     ]
    }
   ],
   "source": [
    "import pandas as pd\n",
    "\n",
    "# Crear una Serie de ejemplo con listas\n",
    "lista = [\n",
    "    ['Colombia', 'Perú', 'Argentina'],\n",
    "    ['Bolivia', 'Uruguay'],\n",
    "    ['Chile']\n",
    "]\n",
    "\n",
    "serie = pd.Series(lista)\n",
    "\n",
    "# Visualizar la Serie original\n",
    "print(\"Serie original:\")\n",
    "print(serie)\n",
    "\n",
    "# Usar explode() para convertir la Serie de listas en una Serie de elementos individuales\n",
    "serie_exploded = serie.explode()\n",
    "\n",
    "# Visualizar la Serie resultante\n",
    "print(\"\\nSerie resultante después de explode():\")\n",
    "print(serie_exploded)\n"
   ]
  },
  {
   "cell_type": "markdown",
   "metadata": {},
   "source": [
    "9. Ordenar los valores de un objeto Series con el método sort_values."
   ]
  },
  {
   "cell_type": "code",
   "execution_count": 13,
   "metadata": {},
   "outputs": [
    {
     "name": "stdout",
     "output_type": "stream",
     "text": [
      "Serie original:\n",
      "0    5\n",
      "1    3\n",
      "2    8\n",
      "3    1\n",
      "4    4\n",
      "dtype: int64\n",
      "\n",
      "Serie ordenada en orden ascendente:\n",
      "3    1\n",
      "1    3\n",
      "4    4\n",
      "0    5\n",
      "2    8\n",
      "dtype: int64\n",
      "\n",
      "Serie ordenada en orden descendente:\n",
      "2    8\n",
      "0    5\n",
      "4    4\n",
      "1    3\n",
      "3    1\n",
      "dtype: int64\n"
     ]
    }
   ],
   "source": [
    "import pandas as pd\n",
    "\n",
    "# Crear una Serie de ejemplo\n",
    "serie = pd.Series([5, 3, 8, 1, 4])\n",
    "\n",
    "# Visualizar la Serie original\n",
    "print(\"Serie original:\")\n",
    "print(serie)\n",
    "\n",
    "# Ordenar los valores en orden ascendente\n",
    "serie_ordenada_asc = serie.sort_values()\n",
    "print(\"\\nSerie ordenada en orden ascendente:\")\n",
    "print(serie_ordenada_asc)\n",
    "\n",
    "# Ordenar los valores en orden descendente\n",
    "serie_ordenada_desc = serie.sort_values(ascending=False)\n",
    "print(\"\\nSerie ordenada en orden descendente:\")\n",
    "print(serie_ordenada_desc)\n"
   ]
  },
  {
   "cell_type": "markdown",
   "metadata": {},
   "source": [
    "10. Agregar datos a un objeto Series existente."
   ]
  },
  {
   "cell_type": "code",
   "execution_count": 18,
   "metadata": {},
   "outputs": [
    {
     "name": "stdout",
     "output_type": "stream",
     "text": [
      "Serie después de usar pd.concat():\n",
      "0    1\n",
      "1    2\n",
      "2    3\n",
      "3    4\n",
      "4    5\n",
      "5    6\n",
      "dtype: int64\n"
     ]
    }
   ],
   "source": [
    "import pandas as pd\n",
    "\n",
    "# Crear una Serie de ejemplo\n",
    "serie_original = pd.Series([1, 2, 3])\n",
    "\n",
    "# Crear otra Serie para agregar\n",
    "serie_nueva = pd.Series([4, 5, 6])\n",
    "\n",
    "# Agregar datos usando pd.concat()\n",
    "serie_actualizada = pd.concat([serie_original, serie_nueva], ignore_index=True)\n",
    "\n",
    "# Visualizar la Serie actualizada\n",
    "print(\"Serie después de usar pd.concat():\")\n",
    "print(serie_actualizada)\n"
   ]
  },
  {
   "cell_type": "markdown",
   "metadata": {},
   "source": [
    "11. Crea un objeto Series a partir de un filtro aplicado a otro objeto Series."
   ]
  },
  {
   "cell_type": "code",
   "execution_count": 19,
   "metadata": {},
   "outputs": [
    {
     "name": "stdout",
     "output_type": "stream",
     "text": [
      "Serie original:\n",
      "0    10\n",
      "1    20\n",
      "2    15\n",
      "3    25\n",
      "4    30\n",
      "5     5\n",
      "6     0\n",
      "dtype: int64\n",
      "\n",
      "Serie filtrada (valores mayores que 15):\n",
      "1    20\n",
      "3    25\n",
      "4    30\n",
      "dtype: int64\n"
     ]
    }
   ],
   "source": [
    "import pandas as pd\n",
    "\n",
    "# Crear una Serie de ejemplo\n",
    "serie_original = pd.Series([10, 20, 15, 25, 30, 5, 0])\n",
    "\n",
    "# Mostrar la Serie original\n",
    "print(\"Serie original:\")\n",
    "print(serie_original)\n",
    "\n",
    "# Aplicar un filtro: seleccionar valores mayores que 15\n",
    "filtro = serie_original > 15\n",
    "\n",
    "# Crear una nueva Serie a partir del filtro\n",
    "serie_filtrada = serie_original[filtro]\n",
    "\n",
    "# Visualizar la nueva Serie filtrada\n",
    "print(\"\\nSerie filtrada (valores mayores que 15):\")\n",
    "print(serie_filtrada)\n"
   ]
  },
  {
   "cell_type": "markdown",
   "metadata": {},
   "source": [
    "12. Cambiar el orden del índice de un objeto Series."
   ]
  },
  {
   "cell_type": "code",
   "execution_count": 20,
   "metadata": {},
   "outputs": [
    {
     "name": "stdout",
     "output_type": "stream",
     "text": [
      "Serie original:\n",
      "a    10\n",
      "b    20\n",
      "c    30\n",
      "d    40\n",
      "dtype: int64\n",
      "\n",
      "Serie después de cambiar el orden del índice:\n",
      "d    40\n",
      "c    30\n",
      "b    20\n",
      "a    10\n",
      "dtype: int64\n"
     ]
    }
   ],
   "source": [
    "import pandas as pd\n",
    "\n",
    "# Crear una Serie de ejemplo con un índice específico\n",
    "serie_original = pd.Series([10, 20, 30, 40], index=['a', 'b', 'c', 'd'])\n",
    "\n",
    "# Mostrar la Serie original\n",
    "print(\"Serie original:\")\n",
    "print(serie_original)\n",
    "\n",
    "# Cambiar el orden del índice usando reindex()\n",
    "nuevo_orden = ['d', 'c', 'b', 'a']  # Definir el nuevo orden de los índices\n",
    "serie_reindexada = serie_original.reindex(nuevo_orden)\n",
    "\n",
    "# Visualizar la Serie reindexada\n",
    "print(\"\\nSerie después de cambiar el orden del índice:\")\n",
    "print(serie_reindexada)\n"
   ]
  },
  {
   "cell_type": "markdown",
   "metadata": {},
   "source": [
    "13. Obtener la desviación estándar y el promedio de un conjunto de datos de una serie."
   ]
  },
  {
   "cell_type": "code",
   "execution_count": 23,
   "metadata": {},
   "outputs": [
    {
     "name": "stdout",
     "output_type": "stream",
     "text": [
      "Serie:\n",
      "0    10\n",
      "1    20\n",
      "2    30\n",
      "3    40\n",
      "4    50\n",
      "dtype: int64\n",
      "\n",
      "Promedio (media): 30.0\n",
      "Desviación estándar: 15.811388300841896\n"
     ]
    }
   ],
   "source": [
    "import pandas as pd\n",
    "\n",
    "# Crear una Serie de ejemplo con datos numéricos\n",
    "serie = pd.Series([10, 20, 30, 40, 50])\n",
    "\n",
    "# Calcular el promedio (media)\n",
    "promedio = serie.mean()\n",
    "\n",
    "# Calcular la desviación estándar\n",
    "desviacion_estandar = serie.std()\n",
    "\n",
    "# Mostrar los resultados\n",
    "print(\"Serie:\")\n",
    "print(serie)\n",
    "print(\"\\nPromedio (media):\", promedio)\n",
    "print(\"Desviación estándar:\", desviacion_estandar)\n"
   ]
  }
 ],
 "metadata": {
  "kernelspec": {
   "display_name": "mongoDB-env",
   "language": "python",
   "name": "python3"
  },
  "language_info": {
   "codemirror_mode": {
    "name": "ipython",
    "version": 3
   },
   "file_extension": ".py",
   "mimetype": "text/x-python",
   "name": "python",
   "nbconvert_exporter": "python",
   "pygments_lexer": "ipython3",
   "version": "3.12.4"
  }
 },
 "nbformat": 4,
 "nbformat_minor": 2
}
