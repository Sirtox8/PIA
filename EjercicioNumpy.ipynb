{
 "cells": [
  {
   "cell_type": "markdown",
   "metadata": {},
   "source": [
    "Ejercicio 1\n",
    "\n",
    "Crea una array de numpy con los siguiente números primos: 2, 3, 5, 7, 11, 13, 17, 19, 23, 29\n",
    "\n",
    "- Muestra el último elemento. Y debes hacerlo sin saber su longitud.\n",
    "- Muestra el 3º elemento\n",
    "- Muestra el último y 3º elemento.\n",
    "- Muestra del 2º al 5º elemento.\n",
    "- Muestra el 2° y el 5° elemento\n",
    "- Muestra el último y el penúltimo elemento. Y debes hacerlo sin saber su longitud.\n"
   ]
  },
  {
   "cell_type": "code",
   "execution_count": 2,
   "metadata": {},
   "outputs": [
    {
     "name": "stdout",
     "output_type": "stream",
     "text": [
      "29\n"
     ]
    }
   ],
   "source": [
    "import numpy as np\n",
    "# Crear el array de números primos\n",
    "primos = np.array([2, 3, 5, 7, 11, 13, 17, 19, 23, 29])\n",
    "# Mostrar el último elemento sin saber la longitud\n",
    "ultimo_elemento = primos[-1]\n",
    "print(ultimo_elemento)"
   ]
  },
  {
   "cell_type": "code",
   "execution_count": 3,
   "metadata": {},
   "outputs": [
    {
     "name": "stdout",
     "output_type": "stream",
     "text": [
      "5\n"
     ]
    }
   ],
   "source": [
    "import numpy as np\n",
    "# Crear el array de números primos\n",
    "primos = np.array([2, 3, 5, 7, 11, 13, 17, 19, 23, 29])\n",
    "# Mostrar el tercer elemento sin saber la longitud\n",
    "tercer_elemento = primos[2]\n",
    "print(tercer_elemento)"
   ]
  },
  {
   "cell_type": "code",
   "execution_count": 4,
   "metadata": {},
   "outputs": [
    {
     "name": "stdout",
     "output_type": "stream",
     "text": [
      "[29  5]\n"
     ]
    }
   ],
   "source": [
    "import numpy as np\n",
    "# Crear el array de números primos\n",
    "primos = np.array([2, 3, 5, 7, 11, 13, 17, 19, 23, 29])\n",
    "# Mostrar el último y el tercer elemento\n",
    "ultimo_y_tercero = primos[[-1, 2]]\n",
    "print(ultimo_y_tercero)\n"
   ]
  },
  {
   "cell_type": "code",
   "execution_count": 5,
   "metadata": {},
   "outputs": [
    {
     "name": "stdout",
     "output_type": "stream",
     "text": [
      "[ 3  5  7 11]\n"
     ]
    }
   ],
   "source": [
    "import numpy as np\n",
    "# Crear el array de números primos\n",
    "primos = np.array([2, 3, 5, 7, 11, 13, 17, 19, 23, 29])\n",
    "# Mostrar del 2º al 5º elemento (índices 1 al 4)\n",
    "segundo_al_quinto = primos[1:5]\n",
    "print(segundo_al_quinto)"
   ]
  },
  {
   "cell_type": "code",
   "execution_count": 6,
   "metadata": {},
   "outputs": [
    {
     "name": "stdout",
     "output_type": "stream",
     "text": [
      "[ 3 11]\n"
     ]
    }
   ],
   "source": [
    "import numpy as np\n",
    "# Crear el array de números primos\n",
    "primos = np.array([2, 3, 5, 7, 11, 13, 17, 19, 23, 29])\n",
    "# Mostrar el 2º y el 5º elemento\n",
    "segundo_y_quinto = primos[[1, 4]]\n",
    "print(segundo_y_quinto)"
   ]
  },
  {
   "cell_type": "code",
   "execution_count": 7,
   "metadata": {},
   "outputs": [
    {
     "name": "stdout",
     "output_type": "stream",
     "text": [
      "[23 29]\n"
     ]
    }
   ],
   "source": [
    "import numpy as np\n",
    "# Crear el array de números primos\n",
    "primos = np.array([2, 3, 5, 7, 11, 13, 17, 19, 23, 29])\n",
    "# Mostrar el último y el penúltimo elemento\n",
    "ultimo_y_penultimo = primos[-2:]\n",
    "print(ultimo_y_penultimo)"
   ]
  },
  {
   "cell_type": "markdown",
   "metadata": {},
   "source": [
    "Ejercicio 2 \n",
    "- Crea una array de numpy con los siguiente números primos: 2, 3, 5, 7, 11, 13, 17, 19, 23, 29 pero que el array sea de tipo \"float\" de 32 bits.\n",
    "- Usando la función arange de numpy crea un array con los números del 100 al 200 pero sin incluir el 200. Muestra el resultado.\n",
    "- Usando la función range estándar de Python crea un array con los números del 100 al 200 pero sin incluir el 200. Muestra el resultado. ¿Qué diferencia hay con arange?"
   ]
  },
  {
   "cell_type": "code",
   "execution_count": 2,
   "metadata": {},
   "outputs": [
    {
     "name": "stdout",
     "output_type": "stream",
     "text": [
      "[ 2.  3.  5.  7. 11. 13. 17. 19. 23. 29.]\n"
     ]
    }
   ],
   "source": [
    "import numpy as np\n",
    "# Crear array números primos\n",
    "primos = [2, 3, 5, 7, 11, 13, 17, 19, 23, 29]\n",
    "# Crear el array de numpy de tipo float32\n",
    "array_primos = np.array (primos, dtype=np.float32)\n",
    "print (array_primos)"
   ]
  },
  {
   "cell_type": "code",
   "execution_count": 3,
   "metadata": {},
   "outputs": [
    {
     "name": "stdout",
     "output_type": "stream",
     "text": [
      "[100 101 102 103 104 105 106 107 108 109 110 111 112 113 114 115 116 117\n",
      " 118 119 120 121 122 123 124 125 126 127 128 129 130 131 132 133 134 135\n",
      " 136 137 138 139 140 141 142 143 144 145 146 147 148 149 150 151 152 153\n",
      " 154 155 156 157 158 159 160 161 162 163 164 165 166 167 168 169 170 171\n",
      " 172 173 174 175 176 177 178 179 180 181 182 183 184 185 186 187 188 189\n",
      " 190 191 192 193 194 195 196 197 198 199]\n"
     ]
    }
   ],
   "source": [
    "import numpy as np\n",
    "# Crear un array con los números del 100 al 200 sin incluir el 200\n",
    "array_numeros = np.arange(100, 200)\n",
    "print(array_numeros)"
   ]
  },
  {
   "cell_type": "code",
   "execution_count": 11,
   "metadata": {},
   "outputs": [
    {
     "name": "stdout",
     "output_type": "stream",
     "text": [
      "[100, 101, 102, 103, 104, 105, 106, 107, 108, 109, 110, 111, 112, 113, 114, 115, 116, 117, 118, 119, 120, 121, 122, 123, 124, 125, 126, 127, 128, 129, 130, 131, 132, 133, 134, 135, 136, 137, 138, 139, 140, 141, 142, 143, 144, 145, 146, 147, 148, 149, 150, 151, 152, 153, 154, 155, 156, 157, 158, 159, 160, 161, 162, 163, 164, 165, 166, 167, 168, 169, 170, 171, 172, 173, 174, 175, 176, 177, 178, 179, 180, 181, 182, 183, 184, 185, 186, 187, 188, 189, 190, 191, 192, 193, 194, 195, 196, 197, 198, 199]\n"
     ]
    }
   ],
   "source": [
    "import numpy as np\n",
    "# Crear un rango de números del 100 al 200 sin incluir el 200\n",
    "numeros = list(range(100, 200))\n",
    "print(numeros)"
   ]
  }
 ],
 "metadata": {
  "kernelspec": {
   "display_name": "base",
   "language": "python",
   "name": "python3"
  },
  "language_info": {
   "codemirror_mode": {
    "name": "ipython",
    "version": 3
   },
   "file_extension": ".py",
   "mimetype": "text/x-python",
   "name": "python",
   "nbconvert_exporter": "python",
   "pygments_lexer": "ipython3",
   "version": "3.12.4"
  }
 },
 "nbformat": 4,
 "nbformat_minor": 2
}
