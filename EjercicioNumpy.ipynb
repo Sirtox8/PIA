{
 "cells": [
  {
   "cell_type": "markdown",
   "metadata": {},
   "source": [
    "Ejercicio 1\n",
    "\n",
    "Crea una array de numpy con los siguiente números primos: 2, 3, 5, 7, 11, 13, 17, 19, 23, 29\n",
    "\n",
    "- Muestra el último elemento. Y debes hacerlo sin saber su longitud.\n",
    "- Muestra el 3º elemento\n",
    "- Muestra el último y 3º elemento.\n",
    "- Muestra del 2º al 5º elemento.\n",
    "- Muestra el 2° y el 5° elemento\n",
    "- Muestra el último y el penúltimo elemento. Y debes hacerlo sin saber su longitud.\n"
   ]
  },
  {
   "cell_type": "code",
   "execution_count": 5,
   "metadata": {},
   "outputs": [
    {
     "name": "stdout",
     "output_type": "stream",
     "text": [
      "29\n"
     ]
    }
   ],
   "source": [
    "import numpy as np\n",
    "\n",
    "primos = np.array([2, 3, 5, 7, 11, 13, 17, 19, 23, 29])\n",
    "\n",
    "ultimo_elemento = primos[-1]\n",
    "print(ultimo_elemento)"
   ]
  },
  {
   "cell_type": "code",
   "execution_count": 6,
   "metadata": {},
   "outputs": [
    {
     "name": "stdout",
     "output_type": "stream",
     "text": [
      "5\n"
     ]
    }
   ],
   "source": [
    "import numpy as np\n",
    "\n",
    "primos = np.array([2, 3, 5, 7, 11, 13, 17, 19, 23, 29])\n",
    "\n",
    "tercer_elemento = primos[2]\n",
    "print(tercer_elemento)"
   ]
  },
  {
   "cell_type": "code",
   "execution_count": null,
   "metadata": {},
   "outputs": [
    {
     "name": "stdout",
     "output_type": "stream",
     "text": [
      "[29  5]\n"
     ]
    }
   ],
   "source": [
    "import numpy as np\n",
    "\n",
    "primos = np.array([2, 3, 5, 7, 11, 13, 17, 19, 23, 29])\n",
    "\n",
    "ultimo_y_tercero = primos[[-1, 2]]\n",
    "print(ultimo_y_tercero)\n"
   ]
  },
  {
   "cell_type": "code",
   "execution_count": null,
   "metadata": {},
   "outputs": [
    {
     "name": "stdout",
     "output_type": "stream",
     "text": [
      "[ 3  5  7 11]\n"
     ]
    }
   ],
   "source": [
    "import numpy as np\n",
    "\n",
    "primos = np.array([2, 3, 5, 7, 11, 13, 17, 19, 23, 29])\n",
    "\n",
    "segundo_al_quinto = primos[1:5]\n",
    "print(segundo_al_quinto)"
   ]
  },
  {
   "cell_type": "code",
   "execution_count": null,
   "metadata": {},
   "outputs": [
    {
     "name": "stdout",
     "output_type": "stream",
     "text": [
      "[ 3 11]\n"
     ]
    }
   ],
   "source": [
    "import numpy as np\n",
    "\n",
    "primos = np.array([2, 3, 5, 7, 11, 13, 17, 19, 23, 29])\n",
    "\n",
    "segundo_y_quinto = primos[[1, 4]]\n",
    "print(segundo_y_quinto)"
   ]
  },
  {
   "cell_type": "code",
   "execution_count": null,
   "metadata": {},
   "outputs": [
    {
     "name": "stdout",
     "output_type": "stream",
     "text": [
      "[23 29]\n"
     ]
    }
   ],
   "source": [
    "import numpy as np\n",
    "\n",
    "primos = np.array([2, 3, 5, 7, 11, 13, 17, 19, 23, 29])\n",
    "\n",
    "ultimo_y_penultimo = primos[-2:]\n",
    "print(ultimo_y_penultimo)"
   ]
  },
  {
   "cell_type": "markdown",
   "metadata": {},
   "source": [
    "Ejercicio 2 \n",
    "- Crea una array de numpy con los siguiente números primos: 2, 3, 5, 7, 11, 13, 17, 19, 23, 29 pero que el array sea de tipo \"float\" de 32 bits.\n",
    "- Usando la función arange de numpy crea un array con los números del 100 al 200 pero sin incluir el 200. Muestra el resultado.\n",
    "- Usando la función range estándar de Python crea un array con los números del 100 al 200 pero sin incluir el 200. Muestra el resultado. ¿Qué diferencia hay con arange?"
   ]
  },
  {
   "cell_type": "code",
   "execution_count": null,
   "metadata": {},
   "outputs": [
    {
     "name": "stdout",
     "output_type": "stream",
     "text": [
      "[ 2.  3.  5.  7. 11. 13. 17. 19. 23. 29.]\n"
     ]
    }
   ],
   "source": [
    "import numpy as np\n",
    "\n",
    "primos = [2, 3, 5, 7, 11, 13, 17, 19, 23, 29]\n",
    "\n",
    "array_primos = np.array (primos, dtype=np.float32)\n",
    "print (array_primos)"
   ]
  },
  {
   "cell_type": "code",
   "execution_count": null,
   "metadata": {},
   "outputs": [
    {
     "name": "stdout",
     "output_type": "stream",
     "text": [
      "[100 101 102 103 104 105 106 107 108 109 110 111 112 113 114 115 116 117\n",
      " 118 119 120 121 122 123 124 125 126 127 128 129 130 131 132 133 134 135\n",
      " 136 137 138 139 140 141 142 143 144 145 146 147 148 149 150 151 152 153\n",
      " 154 155 156 157 158 159 160 161 162 163 164 165 166 167 168 169 170 171\n",
      " 172 173 174 175 176 177 178 179 180 181 182 183 184 185 186 187 188 189\n",
      " 190 191 192 193 194 195 196 197 198 199]\n"
     ]
    }
   ],
   "source": [
    "import numpy as np\n",
    "\n",
    "array_numeros = np.arange(100, 200)\n",
    "print(array_numeros)"
   ]
  },
  {
   "cell_type": "code",
   "execution_count": null,
   "metadata": {},
   "outputs": [
    {
     "name": "stdout",
     "output_type": "stream",
     "text": [
      "[100, 101, 102, 103, 104, 105, 106, 107, 108, 109, 110, 111, 112, 113, 114, 115, 116, 117, 118, 119, 120, 121, 122, 123, 124, 125, 126, 127, 128, 129, 130, 131, 132, 133, 134, 135, 136, 137, 138, 139, 140, 141, 142, 143, 144, 145, 146, 147, 148, 149, 150, 151, 152, 153, 154, 155, 156, 157, 158, 159, 160, 161, 162, 163, 164, 165, 166, 167, 168, 169, 170, 171, 172, 173, 174, 175, 176, 177, 178, 179, 180, 181, 182, 183, 184, 185, 186, 187, 188, 189, 190, 191, 192, 193, 194, 195, 196, 197, 198, 199]\n"
     ]
    }
   ],
   "source": [
    "import numpy as np\n",
    "\n",
    "numeros = list(range(100, 200))\n",
    "print(numeros)"
   ]
  },
  {
   "cell_type": "markdown",
   "metadata": {},
   "source": [
    "Ejercicio 3\n",
    "- Crea la siguiente matriz:\n",
    "1465\n",
    "4173\n",
    "2912\n",
    "6311\n",
    "\n",
    "- Muestra el elemento de la fila 2º y la columna 3º. Es el valor del 7.\n",
    "- Muestra la 3º Fila\n",
    "- Muestra la 2º Columna\n",
    "- Muestra la 2º y 3º Columna\n",
    "- Muestra la 2º y 3º Fila\n",
    "- Muestra la última columna. Debe funcionar independientemente del número de columnas.\n",
    "- Muestra la 2º y 4º Columna y la 1º y 3º fila"
   ]
  },
  {
   "cell_type": "code",
   "execution_count": null,
   "metadata": {},
   "outputs": [
    {
     "name": "stdout",
     "output_type": "stream",
     "text": [
      "[[1 4 6 5]\n",
      " [4 1 7 3]\n",
      " [2 9 1 2]\n",
      " [6 3 1 1]]\n"
     ]
    }
   ],
   "source": [
    "import numpy as np\n",
    "#\n",
    "matriz = np.array([[1, 4, 6, 5],\n",
    "                   [4, 1, 7, 3],\n",
    "                   [2, 9, 1, 2],\n",
    "                   [6, 3, 1, 1]])\n",
    "\n",
    "print(matriz)"
   ]
  },
  {
   "cell_type": "code",
   "execution_count": null,
   "metadata": {},
   "outputs": [
    {
     "name": "stdout",
     "output_type": "stream",
     "text": [
      "7\n"
     ]
    }
   ],
   "source": [
    "\n",
    "elemento = matriz[1, 2]  \n",
    "print(elemento)"
   ]
  },
  {
   "cell_type": "code",
   "execution_count": null,
   "metadata": {},
   "outputs": [
    {
     "name": "stdout",
     "output_type": "stream",
     "text": [
      "[2 9 1 2]\n"
     ]
    }
   ],
   "source": [
    "\n",
    "elemento = matriz [2]\n",
    "print(elemento)"
   ]
  },
  {
   "cell_type": "code",
   "execution_count": null,
   "metadata": {},
   "outputs": [
    {
     "name": "stdout",
     "output_type": "stream",
     "text": [
      "[[4]\n",
      " [1]\n",
      " [9]\n",
      " [3]]\n"
     ]
    }
   ],
   "source": [
    "\n",
    "elemento = matriz [:,1:2]\n",
    "print(elemento)"
   ]
  },
  {
   "cell_type": "code",
   "execution_count": null,
   "metadata": {},
   "outputs": [
    {
     "name": "stdout",
     "output_type": "stream",
     "text": [
      "[[4 6]\n",
      " [1 7]\n",
      " [9 1]\n",
      " [3 1]]\n"
     ]
    }
   ],
   "source": [
    "\n",
    "elemento = matriz [:,1:3]\n",
    "print(elemento)"
   ]
  },
  {
   "cell_type": "code",
   "execution_count": null,
   "metadata": {},
   "outputs": [
    {
     "name": "stdout",
     "output_type": "stream",
     "text": [
      "[[4 1 7 3]\n",
      " [2 9 1 2]]\n"
     ]
    }
   ],
   "source": [
    "\n",
    "elemento = matriz [1:3,:]\n",
    "print(elemento)"
   ]
  },
  {
   "cell_type": "code",
   "execution_count": null,
   "metadata": {},
   "outputs": [
    {
     "name": "stdout",
     "output_type": "stream",
     "text": [
      "[[5]\n",
      " [3]\n",
      " [2]\n",
      " [1]]\n"
     ]
    }
   ],
   "source": [
    "\n",
    "elemento = matriz [:,-1:]\n",
    "print(elemento)"
   ]
  },
  {
   "cell_type": "code",
   "execution_count": null,
   "metadata": {},
   "outputs": [
    {
     "name": "stdout",
     "output_type": "stream",
     "text": [
      "2ª y 4ª columna:\n",
      "[[4 5]\n",
      " [1 3]\n",
      " [9 2]\n",
      " [3 1]]\n",
      "n1ª y 3ª fila:\n",
      "[[1 4 6 5]\n",
      " [2 9 1 2]]\n"
     ]
    }
   ],
   "source": [
    "\n",
    "columnas_seleccionadas = matriz[:, [1, 3]]  \n",
    "\n",
    "filas_seleccionadas = matriz[[0, 2], :]  \n",
    "print(\"2ª y 4ª columna:\")\n",
    "print(columnas_seleccionadas)\n",
    "print(\"n1ª y 3ª fila:\")\n",
    "print(filas_seleccionadas)"
   ]
  },
  {
   "cell_type": "markdown",
   "metadata": {},
   "source": [
    "Ejercicio 4\n",
    "- El siguiente array contiene las temperaturas medias que ha hecho en Valencia en cada mes [10.2, 10.7, 13.3, 15.8, 19.3, 23.6, 26, 25.9, 22.8, 19.1, 13.9, 10.8 ]\n",
    "- Muestra las temperaturas cuyo valor sea mayor que 20\n",
    "- Muestra las temperaturas cuyo valor sea menor que 11\n",
    "- Muestra las temperaturas cuyo valor sea mayor que 20 o menor que 11"
   ]
  },
  {
   "cell_type": "code",
   "execution_count": 7,
   "metadata": {},
   "outputs": [
    {
     "name": "stdout",
     "output_type": "stream",
     "text": [
      "Temperaturas mayores que 20: [23.6, 26.0, 25.9, 22.8]\n"
     ]
    }
   ],
   "source": [
    "\n",
    "temperaturas = [10.2, 10.7, 13.3, 15.8, 19.3, 23.6, 26.0, 25.9, 22.8, 19.1, 13.9, 10.8]\n",
    "\n",
    "\n",
    "mayor_que_20 = [temp for temp in temperaturas if temp > 20]\n",
    "print(\"Temperaturas mayores que 20:\", mayor_que_20)"
   ]
  },
  {
   "cell_type": "code",
   "execution_count": 8,
   "metadata": {},
   "outputs": [
    {
     "name": "stdout",
     "output_type": "stream",
     "text": [
      "Temperaturas menores que 11: [10.2, 10.7, 10.8]\n"
     ]
    }
   ],
   "source": [
    "\n",
    "menor_que_11 = [temp for temp in temperaturas if temp < 11]\n",
    "print(\"Temperaturas menores que 11:\", menor_que_11)"
   ]
  },
  {
   "cell_type": "code",
   "execution_count": 15,
   "metadata": {},
   "outputs": [
    {
     "name": "stdout",
     "output_type": "stream",
     "text": [
      "Temperaturas mayores que 20 o menores que 11: [10.2, 10.7, 23.6, 26.0, 25.9, 22.8, 10.8]\n"
     ]
    }
   ],
   "source": [
    "\n",
    "mayor_que_20_o_menor_que_11 = [temp for temp in temperaturas if temp > 20 or temp < 11]\n",
    "print(\"Temperaturas mayores que 20 o menores que 11:\", mayor_que_20_o_menor_que_11)"
   ]
  },
  {
   "cell_type": "code",
   "execution_count": 18,
   "metadata": {},
   "outputs": [],
   "source": [
    "from sklearn.datasets import load_iris\n",
    "datos=load_iris().data\n",
    "resultado=load_iris().target"
   ]
  },
  {
   "cell_type": "code",
   "execution_count": 19,
   "metadata": {},
   "outputs": [
    {
     "data": {
      "text/plain": [
       "array([5.1, 4.9, 4.7, 4.6, 5. , 5.4, 4.6, 5. , 4.4, 4.9, 5.4, 4.8, 4.8,\n",
       "       4.3, 5.8, 5.7, 5.4, 5.1, 5.7, 5.1, 5.4, 5.1, 4.6, 5.1, 4.8, 5. ,\n",
       "       5. , 5.2, 5.2, 4.7, 4.8, 5.4, 5.2, 5.5, 4.9, 5. , 5.5, 4.9, 4.4,\n",
       "       5.1, 5. , 4.5, 4.4, 5. , 5.1, 4.8, 5.1, 4.6, 5.3, 5. , 7. , 6.4,\n",
       "       6.9, 5.5, 6.5, 5.7, 6.3, 4.9, 6.6, 5.2, 5. , 5.9, 6. , 6.1, 5.6,\n",
       "       6.7, 5.6, 5.8, 6.2, 5.6, 5.9, 6.1, 6.3, 6.1, 6.4, 6.6, 6.8, 6.7,\n",
       "       6. , 5.7, 5.5, 5.5, 5.8, 6. , 5.4, 6. , 6.7, 6.3, 5.6, 5.5, 5.5,\n",
       "       6.1, 5.8, 5. , 5.6, 5.7, 5.7, 6.2, 5.1])"
      ]
     },
     "execution_count": 19,
     "metadata": {},
     "output_type": "execute_result"
    }
   ],
   "source": [
    "\n",
    "sepal_length = datos[:99, 0]\n",
    "sepal_length"
   ]
  },
  {
   "cell_type": "code",
   "execution_count": 20,
   "metadata": {},
   "outputs": [
    {
     "data": {
      "text/plain": [
       "array([1.4, 1.4, 1.3, 1.5, 1.4, 1.7, 1.4, 1.5, 1.4, 1.5, 1.5, 1.6, 1.4,\n",
       "       1.1, 1.2, 1.5, 1.3, 1.4, 1.7, 1.5, 1.7, 1.5, 1. , 1.7, 1.9, 1.6,\n",
       "       1.6, 1.5, 1.4, 1.6, 1.6, 1.5, 1.5, 1.4, 1.5, 1.2, 1.3, 1.4, 1.3,\n",
       "       1.5, 1.3, 1.3, 1.3, 1.6, 1.9, 1.4, 1.6, 1.4, 1.5, 1.4, 4.7, 4.5,\n",
       "       4.9, 4. , 4.6, 4.5, 4.7, 3.3, 4.6, 3.9, 3.5, 4.2, 4. , 4.7, 3.6,\n",
       "       4.4, 4.5, 4.1, 4.5, 3.9, 4.8, 4. , 4.9, 4.7, 4.3, 4.4, 4.8, 5. ,\n",
       "       4.5, 3.5, 3.8, 3.7, 3.9, 5.1, 4.5, 4.5, 4.7, 4.4, 4.1, 4. , 4.4,\n",
       "       4.6, 4. , 3.3, 4.2, 4.2, 4.2, 4.3, 3. ])"
      ]
     },
     "execution_count": 20,
     "metadata": {},
     "output_type": "execute_result"
    }
   ],
   "source": [
    "# Crear un array llamado petal_length con las 99 primeras filas y la 3ª columna de la matriz datos\n",
    "petal_length = datos[:99, 2]\n",
    "petal_length"
   ]
  },
  {
   "cell_type": "code",
   "execution_count": 21,
   "metadata": {},
   "outputs": [
    {
     "data": {
      "text/plain": [
       "array([[5.1, 1.4],\n",
       "       [4.9, 1.4],\n",
       "       [4.7, 1.3],\n",
       "       [4.6, 1.5],\n",
       "       [5. , 1.4],\n",
       "       [5.4, 1.7],\n",
       "       [4.6, 1.4],\n",
       "       [5. , 1.5],\n",
       "       [4.4, 1.4],\n",
       "       [4.9, 1.5],\n",
       "       [5.4, 1.5],\n",
       "       [4.8, 1.6],\n",
       "       [4.8, 1.4],\n",
       "       [4.3, 1.1],\n",
       "       [5.8, 1.2],\n",
       "       [5.7, 1.5],\n",
       "       [5.4, 1.3],\n",
       "       [5.1, 1.4],\n",
       "       [5.7, 1.7],\n",
       "       [5.1, 1.5],\n",
       "       [5.4, 1.7],\n",
       "       [5.1, 1.5],\n",
       "       [4.6, 1. ],\n",
       "       [5.1, 1.7],\n",
       "       [4.8, 1.9],\n",
       "       [5. , 1.6],\n",
       "       [5. , 1.6],\n",
       "       [5.2, 1.5],\n",
       "       [5.2, 1.4],\n",
       "       [4.7, 1.6],\n",
       "       [4.8, 1.6],\n",
       "       [5.4, 1.5],\n",
       "       [5.2, 1.5],\n",
       "       [5.5, 1.4],\n",
       "       [4.9, 1.5],\n",
       "       [5. , 1.2],\n",
       "       [5.5, 1.3],\n",
       "       [4.9, 1.4],\n",
       "       [4.4, 1.3],\n",
       "       [5.1, 1.5],\n",
       "       [5. , 1.3],\n",
       "       [4.5, 1.3],\n",
       "       [4.4, 1.3],\n",
       "       [5. , 1.6],\n",
       "       [5.1, 1.9],\n",
       "       [4.8, 1.4],\n",
       "       [5.1, 1.6],\n",
       "       [4.6, 1.4],\n",
       "       [5.3, 1.5],\n",
       "       [5. , 1.4],\n",
       "       [7. , 4.7],\n",
       "       [6.4, 4.5],\n",
       "       [6.9, 4.9],\n",
       "       [5.5, 4. ],\n",
       "       [6.5, 4.6],\n",
       "       [5.7, 4.5],\n",
       "       [6.3, 4.7],\n",
       "       [4.9, 3.3],\n",
       "       [6.6, 4.6],\n",
       "       [5.2, 3.9],\n",
       "       [5. , 3.5],\n",
       "       [5.9, 4.2],\n",
       "       [6. , 4. ],\n",
       "       [6.1, 4.7],\n",
       "       [5.6, 3.6],\n",
       "       [6.7, 4.4],\n",
       "       [5.6, 4.5],\n",
       "       [5.8, 4.1],\n",
       "       [6.2, 4.5],\n",
       "       [5.6, 3.9],\n",
       "       [5.9, 4.8],\n",
       "       [6.1, 4. ],\n",
       "       [6.3, 4.9],\n",
       "       [6.1, 4.7],\n",
       "       [6.4, 4.3],\n",
       "       [6.6, 4.4],\n",
       "       [6.8, 4.8],\n",
       "       [6.7, 5. ],\n",
       "       [6. , 4.5],\n",
       "       [5.7, 3.5],\n",
       "       [5.5, 3.8],\n",
       "       [5.5, 3.7],\n",
       "       [5.8, 3.9],\n",
       "       [6. , 5.1],\n",
       "       [5.4, 4.5],\n",
       "       [6. , 4.5],\n",
       "       [6.7, 4.7],\n",
       "       [6.3, 4.4],\n",
       "       [5.6, 4.1],\n",
       "       [5.5, 4. ],\n",
       "       [5.5, 4.4],\n",
       "       [6.1, 4.6],\n",
       "       [5.8, 4. ],\n",
       "       [5. , 3.3],\n",
       "       [5.6, 4.2],\n",
       "       [5.7, 4.2],\n",
       "       [5.7, 4.2],\n",
       "       [6.2, 4.3],\n",
       "       [5.1, 3. ]])"
      ]
     },
     "execution_count": 21,
     "metadata": {},
     "output_type": "execute_result"
    }
   ],
   "source": [
    "# Crear un array llamado x juntando las 2 columnas sepal_length y petal_length\n",
    "x = np.column_stack((sepal_length, petal_length))\n",
    "x"
   ]
  },
  {
   "cell_type": "code",
   "execution_count": 22,
   "metadata": {},
   "outputs": [
    {
     "data": {
      "text/plain": [
       "array([0, 0, 0, 0, 0, 0, 0, 0, 0, 0, 0, 0, 0, 0, 0, 0, 0, 0, 0, 0, 0, 0,\n",
       "       0, 0, 0, 0, 0, 0, 0, 0, 0, 0, 0, 0, 0, 0, 0, 0, 0, 0, 0, 0, 0, 0,\n",
       "       0, 0, 0, 0, 0, 0, 1, 1, 1, 1, 1, 1, 1, 1, 1, 1, 1, 1, 1, 1, 1, 1,\n",
       "       1, 1, 1, 1, 1, 1, 1, 1, 1, 1, 1, 1, 1, 1, 1, 1, 1, 1, 1, 1, 1, 1,\n",
       "       1, 1, 1, 1, 1, 1, 1, 1, 1, 1, 1])"
      ]
     },
     "execution_count": 22,
     "metadata": {},
     "output_type": "execute_result"
    }
   ],
   "source": [
    "# Crear un array llamado y con las 99 primeras filas del vector resultado\n",
    "y = resultado[:99]\n",
    "y"
   ]
  },
  {
   "cell_type": "markdown",
   "metadata": {},
   "source": [
    "Ejercicio 6\n",
    "- Carga los datos del ejemplo de las flores con el siguiente código:\n",
    "\n",
    "from sklearn.datasets import load_iris\n",
    "\n",
    "datos=load_iris().data\n",
    "\n",
    "resultado=load_iris().target\n",
    "\n",
    "- Crea un array llamado x con las 99 primeras filas , la 1º columna y la 3º columna de la matriz datos\n",
    "- Crea un array llamado y con las 99 primeras filas del vector resultado"
   ]
  },
  {
   "cell_type": "code",
   "execution_count": 35,
   "metadata": {},
   "outputs": [],
   "source": [
    "from sklearn.datasets import load_iris\n",
    "datos=load_iris().data\n",
    "resultado=load_iris().target"
   ]
  },
  {
   "cell_type": "code",
   "execution_count": 36,
   "metadata": {},
   "outputs": [
    {
     "name": "stdout",
     "output_type": "stream",
     "text": [
      "Array x:\n",
      " [[5.1 1.4]\n",
      " [4.9 1.4]\n",
      " [4.7 1.3]\n",
      " [4.6 1.5]\n",
      " [5.  1.4]\n",
      " [5.4 1.7]\n",
      " [4.6 1.4]\n",
      " [5.  1.5]\n",
      " [4.4 1.4]\n",
      " [4.9 1.5]\n",
      " [5.4 1.5]\n",
      " [4.8 1.6]\n",
      " [4.8 1.4]\n",
      " [4.3 1.1]\n",
      " [5.8 1.2]\n",
      " [5.7 1.5]\n",
      " [5.4 1.3]\n",
      " [5.1 1.4]\n",
      " [5.7 1.7]\n",
      " [5.1 1.5]\n",
      " [5.4 1.7]\n",
      " [5.1 1.5]\n",
      " [4.6 1. ]\n",
      " [5.1 1.7]\n",
      " [4.8 1.9]\n",
      " [5.  1.6]\n",
      " [5.  1.6]\n",
      " [5.2 1.5]\n",
      " [5.2 1.4]\n",
      " [4.7 1.6]\n",
      " [4.8 1.6]\n",
      " [5.4 1.5]\n",
      " [5.2 1.5]\n",
      " [5.5 1.4]\n",
      " [4.9 1.5]\n",
      " [5.  1.2]\n",
      " [5.5 1.3]\n",
      " [4.9 1.4]\n",
      " [4.4 1.3]\n",
      " [5.1 1.5]\n",
      " [5.  1.3]\n",
      " [4.5 1.3]\n",
      " [4.4 1.3]\n",
      " [5.  1.6]\n",
      " [5.1 1.9]\n",
      " [4.8 1.4]\n",
      " [5.1 1.6]\n",
      " [4.6 1.4]\n",
      " [5.3 1.5]\n",
      " [5.  1.4]\n",
      " [7.  4.7]\n",
      " [6.4 4.5]\n",
      " [6.9 4.9]\n",
      " [5.5 4. ]\n",
      " [6.5 4.6]\n",
      " [5.7 4.5]\n",
      " [6.3 4.7]\n",
      " [4.9 3.3]\n",
      " [6.6 4.6]\n",
      " [5.2 3.9]\n",
      " [5.  3.5]\n",
      " [5.9 4.2]\n",
      " [6.  4. ]\n",
      " [6.1 4.7]\n",
      " [5.6 3.6]\n",
      " [6.7 4.4]\n",
      " [5.6 4.5]\n",
      " [5.8 4.1]\n",
      " [6.2 4.5]\n",
      " [5.6 3.9]\n",
      " [5.9 4.8]\n",
      " [6.1 4. ]\n",
      " [6.3 4.9]\n",
      " [6.1 4.7]\n",
      " [6.4 4.3]\n",
      " [6.6 4.4]\n",
      " [6.8 4.8]\n",
      " [6.7 5. ]\n",
      " [6.  4.5]\n",
      " [5.7 3.5]\n",
      " [5.5 3.8]\n",
      " [5.5 3.7]\n",
      " [5.8 3.9]\n",
      " [6.  5.1]\n",
      " [5.4 4.5]\n",
      " [6.  4.5]\n",
      " [6.7 4.7]\n",
      " [6.3 4.4]\n",
      " [5.6 4.1]\n",
      " [5.5 4. ]\n",
      " [5.5 4.4]\n",
      " [6.1 4.6]\n",
      " [5.8 4. ]\n",
      " [5.  3.3]\n",
      " [5.6 4.2]\n",
      " [5.7 4.2]\n",
      " [5.7 4.2]\n",
      " [6.2 4.3]\n",
      " [5.1 3. ]]\n"
     ]
    }
   ],
   "source": [
    "# Crear un array llamado x con las 99 primeras filas, la 1ª columna y la 3ª columna de la matriz datos\n",
    "x = datos[:99, [0, 2]]  # 0 es la 1ª columna (longitud del sépalo) y 2 es la 3ª columna (longitud del pétalo)\n",
    "print(\"Array x:\\n\", x)"
   ]
  },
  {
   "cell_type": "code",
   "execution_count": 37,
   "metadata": {},
   "outputs": [
    {
     "name": "stdout",
     "output_type": "stream",
     "text": [
      "Array y:\n",
      " [0 0 0 0 0 0 0 0 0 0 0 0 0 0 0 0 0 0 0 0 0 0 0 0 0 0 0 0 0 0 0 0 0 0 0 0 0\n",
      " 0 0 0 0 0 0 0 0 0 0 0 0 0 1 1 1 1 1 1 1 1 1 1 1 1 1 1 1 1 1 1 1 1 1 1 1 1\n",
      " 1 1 1 1 1 1 1 1 1 1 1 1 1 1 1 1 1 1 1 1 1 1 1 1 1]\n"
     ]
    }
   ],
   "source": [
    "\n",
    "# Crear un array llamado y con las 99 primeras filas del vector resultado\n",
    "y = resultado[:99]\n",
    "print(\"Array y:\\n\", y)"
   ]
  },
  {
   "cell_type": "markdown",
   "metadata": {},
   "source": [
    "Ejercicio 6\n",
    "- Selecciona las celdas en rojo oscuro de la siguiente matriz:\n"
   ]
  },
  {
   "cell_type": "code",
   "execution_count": null,
   "metadata": {},
   "outputs": [],
   "source": [
    "# Crear la matriz como un array de Numpy\n",
    "matriz = np.array([[1, 2,  3,   4, 5,   6,  7, 8],\n",
    "                   [9, 10, 11, 12, 13, 14, 15, 16]\n",
    "                   [17,18, 19, 20, 21, 22, 23 ,24],\n",
    "                   [25,26, 27, 28, 29, 30, 31, 32]])"
   ]
  },
  {
   "cell_type": "markdown",
   "metadata": {},
   "source": [
    "Ejercicio 7\n",
    "- Selecciona las celdas en rojo oscuro de la siguiente matriz:\n",
    "- Ahora selecciona las celdas en rojo oscuro pero también las verdes y azules que hay por detrás de las rojo oscuro."
   ]
  },
  {
   "cell_type": "code",
   "execution_count": 67,
   "metadata": {},
   "outputs": [
    {
     "name": "stdout",
     "output_type": "stream",
     "text": [
      "[[[0.09135743]\n",
      "  [0.20503532]\n",
      "  [0.23363909]\n",
      "  [0.32200599]\n",
      "  [0.01557741]\n",
      "  [0.77961546]\n",
      "  [0.82992384]\n",
      "  [0.73861232]]\n",
      "\n",
      " [[0.95558669]\n",
      "  [0.64782833]\n",
      "  [0.17872204]\n",
      "  [0.07229277]\n",
      "  [0.89900526]\n",
      "  [0.75989884]\n",
      "  [0.88320471]\n",
      "  [0.39824297]]\n",
      "\n",
      " [[0.74750646]\n",
      "  [0.53572415]\n",
      "  [0.38640445]\n",
      "  [0.59863659]\n",
      "  [0.08421832]\n",
      "  [0.86683674]\n",
      "  [0.90626752]\n",
      "  [0.65637634]]\n",
      "\n",
      " [[0.00162272]\n",
      "  [0.23883147]\n",
      "  [0.96519785]\n",
      "  [0.72515556]\n",
      "  [0.71330748]\n",
      "  [0.97577272]\n",
      "  [0.28701642]\n",
      "  [0.86393752]]\n",
      "\n",
      " [[0.87364757]\n",
      "  [0.83854465]\n",
      "  [0.76772003]\n",
      "  [0.84858261]\n",
      "  [0.48340405]\n",
      "  [0.89411319]\n",
      "  [0.32947651]\n",
      "  [0.57455419]]\n",
      "\n",
      " [[0.20308741]\n",
      "  [0.52562831]\n",
      "  [0.43010172]\n",
      "  [0.0344848 ]\n",
      "  [0.02241397]\n",
      "  [0.2400181 ]\n",
      "  [0.03562642]\n",
      "  [0.1480422 ]]\n",
      "\n",
      " [[0.10031948]\n",
      "  [0.1210766 ]\n",
      "  [0.95826324]\n",
      "  [0.37130363]\n",
      "  [0.36886719]\n",
      "  [0.48056001]\n",
      "  [0.91947494]\n",
      "  [0.11250754]]]\n",
      "Submatriz seleccionada:\n",
      " []\n"
     ]
    }
   ],
   "source": [
    "import numpy as np\n",
    "\n",
    "# Crear una matriz 3D de 7 filas, 8 columnas y 1 capa\n",
    "matriz_3d = np.random.rand(7, 8, 1)\n",
    "\n",
    "submatriz = matriz_3d[0:1, 2:5, 2:6]\n",
    "print (matriz_3d)\n",
    "\n",
    "print(\"Submatriz seleccionada:\\n\", submatriz)"
   ]
  },
  {
   "cell_type": "markdown",
   "metadata": {},
   "source": [
    "Ejercicio 8\n",
    "Crea la siguiente matriz:\n",
    "\n",
    "- A todos los elementos de la matriz sumale un 10. Usando las funciones de numpy\n",
    "- A todos los elementos de la matriz sumale un 10 y divídelos entre 2. Usando las funciones de numpy\n",
    "- A todos los elementos de la matriz sumale un 10. Usando operadores\n",
    "- A todos los elementos de la matriz sumale un 10 y divídelos entre 2. Usando operadores\n"
   ]
  },
  {
   "cell_type": "code",
   "execution_count": 42,
   "metadata": {},
   "outputs": [
    {
     "name": "stdout",
     "output_type": "stream",
     "text": [
      "Matriz original:\n",
      " [[1 4 6 5]\n",
      " [4 1 7 3]\n",
      " [2 9 1 2]\n",
      " [6 3 1 1]]\n"
     ]
    }
   ],
   "source": [
    "# Crear la matriz como un array de Numpy\n",
    "matriz = np.array([[1, 4, 6, 5],\n",
    "                   [4, 1, 7, 3],\n",
    "                   [2, 9, 1, 2],\n",
    "                   [6, 3, 1, 1]])\n",
    "\n",
    "# 1. A todos los elementos de la matriz, súmale un 10 usando funciones de NumPy\n",
    "matriz_suma_10_np = np.add(matriz, 10)\n",
    "print(\"Matriz original:\\n\", matriz)"
   ]
  },
  {
   "cell_type": "code",
   "execution_count": 43,
   "metadata": {},
   "outputs": [
    {
     "name": "stdout",
     "output_type": "stream",
     "text": [
      "Suma 10 usando NumPy:\n",
      " [[11 14 16 15]\n",
      " [14 11 17 13]\n",
      " [12 19 11 12]\n",
      " [16 13 11 11]]\n"
     ]
    }
   ],
   "source": [
    "\n",
    "# 2. A todos los elementos de la matriz, súmale un 10 y divídelos entre 2 usando funciones de NumPy\n",
    "matriz_suma_10_div_2_np = np.divide(np.add(matriz, 10), 2)\n",
    "print(\"Suma 10 usando NumPy:\\n\", matriz_suma_10_np)"
   ]
  },
  {
   "cell_type": "code",
   "execution_count": 44,
   "metadata": {},
   "outputs": [
    {
     "name": "stdout",
     "output_type": "stream",
     "text": [
      "Suma 10 usando operadores:\n",
      " [[11 14 16 15]\n",
      " [14 11 17 13]\n",
      " [12 19 11 12]\n",
      " [16 13 11 11]]\n"
     ]
    }
   ],
   "source": [
    "# 3. A todos los elementos de la matriz, súmale un 10 usando operadores\n",
    "matriz_suma_10_op = matriz + 10\n",
    "print(\"Suma 10 usando operadores:\\n\", matriz_suma_10_op)"
   ]
  },
  {
   "cell_type": "code",
   "execution_count": 45,
   "metadata": {},
   "outputs": [
    {
     "name": "stdout",
     "output_type": "stream",
     "text": [
      "Suma 10 y divido entre 2 usando operadores:\n",
      " [[5.5 7.  8.  7.5]\n",
      " [7.  5.5 8.5 6.5]\n",
      " [6.  9.5 5.5 6. ]\n",
      " [8.  6.5 5.5 5.5]]\n"
     ]
    }
   ],
   "source": [
    "# 4. A todos los elementos de la matriz, súmale un 10 y divídelos entre 2 usando operadores\n",
    "matriz_suma_10_div_2_op = (matriz + 10) / 2\n",
    "print(\"Suma 10 y divido entre 2 usando operadores:\\n\", matriz_suma_10_div_2_op)"
   ]
  },
  {
   "cell_type": "markdown",
   "metadata": {},
   "source": [
    "Ejercicio 10\n",
    "- Crea la siguiente matriz:\n",
    "\n",
    "[[1 2 3]\n",
    " [4 5 6]\n",
    " [7 8 9]]\n",
    "\n",
    "- Multiplica cada elemento de la matriz por sí mismo\n",
    "- Multiplica la matriz por sí misma\n",
    "\n"
   ]
  },
  {
   "cell_type": "code",
   "execution_count": 50,
   "metadata": {},
   "outputs": [
    {
     "name": "stdout",
     "output_type": "stream",
     "text": [
      "Cada elemento al cuadrado:\n",
      " [[ 1  4  9]\n",
      " [16 25 36]\n",
      " [49 64 81]]\n"
     ]
    }
   ],
   "source": [
    "# Crear la matriz especificada\n",
    "matriz = np.array([[1, 2, 3],\n",
    "                   [4, 5, 6],\n",
    "                   [7, 8, 9]])\n",
    "\n",
    "# 1. Multiplicar cada elemento de la matriz por sí mismo (elevar al cuadrado)\n",
    "matriz_cuadrado = matriz ** 2\n",
    "print(\"Cada elemento al cuadrado:\\n\", matriz_cuadrado)"
   ]
  },
  {
   "cell_type": "code",
   "execution_count": 51,
   "metadata": {},
   "outputs": [
    {
     "name": "stdout",
     "output_type": "stream",
     "text": [
      "Matriz multiplicada por sí misma:\n",
      " [[ 30  36  42]\n",
      " [ 66  81  96]\n",
      " [102 126 150]]\n"
     ]
    }
   ],
   "source": [
    "\n",
    "# 2. Multiplicar la matriz por sí misma (multiplicación de matrices)\n",
    "matriz_producto = np.dot(matriz, matriz)\n",
    "print(\"Matriz multiplicada por sí misma:\\n\", matriz_producto)"
   ]
  },
  {
   "cell_type": "markdown",
   "metadata": {},
   "source": [
    "Ejercicio 10\n",
    "- Crea una función llamada f que acepte como parámetro el número y que retorne el valor multiplicado por 2 y además que se le sume 1.\n",
    "- Crea ahora el vector de numpy [1,5,4,7,3,9,8,6] y aplícale la función f\n"
   ]
  },
  {
   "cell_type": "code",
   "execution_count": 56,
   "metadata": {},
   "outputs": [
    {
     "name": "stdout",
     "output_type": "stream",
     "text": [
      "[ 3 11  9 15  7 19 17 13]\n"
     ]
    }
   ],
   "source": [
    "# Definir la función f\n",
    "def f(x):\n",
    "    return (x * 2) + 1\n",
    "\n",
    "# Crear el vector de numpy\n",
    "vector = np.array([1, 5, 4, 7, 3, 9, 8, 6])\n",
    "# Aplicar la función f a cada elemento del vector\n",
    "resultado = f(vector)\n",
    "print(resultado)"
   ]
  },
  {
   "cell_type": "markdown",
   "metadata": {},
   "source": [
    "Ejercicio 11\n",
    "- Crea una función llamada f que acepte como parámetro el número y que retorne lo siguiente:\n",
    "- Si es valor está en el rango (-inf,3] que retorne 0\n",
    "- Si es valor está en el rango [3,5] que retorne 4\n",
    "- Si es valor está en el rango [5,6] que retorne 5\n",
    "- Si es valor está en el rango [6,7] que retorne 6\n",
    "- Si es valor está en el rango [7,9] que retorne 8\n",
    "- Si es valor está en el rango [9,+inf) que retorne 10\n",
    "- Crea ahora el vector de numpy [1,5,4,7,3,9,8,6] y aplícale la función f\n"
   ]
  },
  {
   "cell_type": "code",
   "execution_count": 59,
   "metadata": {},
   "outputs": [
    {
     "name": "stdout",
     "output_type": "stream",
     "text": [
      "[0 4 4 6 0 8 8 5]\n"
     ]
    }
   ],
   "source": [
    "# Definir la función f según las condiciones especificadas\n",
    "def f(x):\n",
    "    if x <= 3:\n",
    "        return 0\n",
    "    elif 3 < x <= 5:\n",
    "        return 4\n",
    "    elif 5 < x <= 6:\n",
    "        return 5\n",
    "    elif 6 < x <= 7:\n",
    "        return 6\n",
    "    elif 7 < x <= 9:\n",
    "        return 8\n",
    "    elif x > 9:\n",
    "        return 10\n",
    "\n",
    "# Crear el vector de numpy\n",
    "vector = np.array([1, 5, 4, 7, 3, 9, 8, 6])\n",
    "\n",
    "# Aplicar la función f a cada elemento del vector\n",
    "resultado = np.vectorize(f)(vector)\n",
    "\n",
    "# Mostrar resultados\n",
    "print(resultado)"
   ]
  }
 ],
 "metadata": {
  "kernelspec": {
   "display_name": "base",
   "language": "python",
   "name": "python3"
  },
  "language_info": {
   "codemirror_mode": {
    "name": "ipython",
    "version": 3
   },
   "file_extension": ".py",
   "mimetype": "text/x-python",
   "name": "python",
   "nbconvert_exporter": "python",
   "pygments_lexer": "ipython3",
   "version": "3.12.4"
  }
 },
 "nbformat": 4,
 "nbformat_minor": 2
}
