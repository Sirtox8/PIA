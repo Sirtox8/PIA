{
 "cells": [
  {
   "cell_type": "markdown",
   "metadata": {},
   "source": [
    "Ejercicio 1\n",
    "\n",
    "Crea una array de numpy con los siguiente números primos: 2, 3, 5, 7, 11, 13, 17, 19, 23, 29\n",
    "\n",
    "- Muestra el último elemento. Y debes hacerlo sin saber su longitud.\n",
    "- Muestra el 3º elemento\n",
    "- Muestra el último y 3º elemento.\n",
    "- Muestra del 2º al 5º elemento.\n",
    "- Muestra el 2° y el 5° elemento\n",
    "- Muestra el último y el penúltimo elemento. Y debes hacerlo sin saber su longitud.\n"
   ]
  },
  {
   "cell_type": "code",
   "execution_count": 15,
   "metadata": {},
   "outputs": [
    {
     "name": "stdout",
     "output_type": "stream",
     "text": [
      "29\n"
     ]
    }
   ],
   "source": [
    "import numpy as np\n",
    "# Crear el array de números primos\n",
    "primos = np.array([2, 3, 5, 7, 11, 13, 17, 19, 23, 29])\n",
    "# Mostrar el último elemento sin saber la longitud\n",
    "ultimo_elemento = primos[-1]\n",
    "print(ultimo_elemento)"
   ]
  },
  {
   "cell_type": "code",
   "execution_count": 16,
   "metadata": {},
   "outputs": [
    {
     "name": "stdout",
     "output_type": "stream",
     "text": [
      "5\n"
     ]
    }
   ],
   "source": [
    "import numpy as np\n",
    "# Crear el array de números primos\n",
    "primos = np.array([2, 3, 5, 7, 11, 13, 17, 19, 23, 29])\n",
    "# Mostrar el tercer elemento sin saber la longitud\n",
    "tercer_elemento = primos[2]\n",
    "print(tercer_elemento)"
   ]
  },
  {
   "cell_type": "code",
   "execution_count": 17,
   "metadata": {},
   "outputs": [
    {
     "name": "stdout",
     "output_type": "stream",
     "text": [
      "[29  5]\n"
     ]
    }
   ],
   "source": [
    "import numpy as np\n",
    "# Crear el array de números primos\n",
    "primos = np.array([2, 3, 5, 7, 11, 13, 17, 19, 23, 29])\n",
    "# Mostrar el último y el tercer elemento\n",
    "ultimo_y_tercero = primos[[-1, 2]]\n",
    "print(ultimo_y_tercero)\n"
   ]
  },
  {
   "cell_type": "code",
   "execution_count": 18,
   "metadata": {},
   "outputs": [
    {
     "name": "stdout",
     "output_type": "stream",
     "text": [
      "[ 3  5  7 11]\n"
     ]
    }
   ],
   "source": [
    "import numpy as np\n",
    "# Crear el array de números primos\n",
    "primos = np.array([2, 3, 5, 7, 11, 13, 17, 19, 23, 29])\n",
    "# Mostrar del 2º al 5º elemento (índices 1 al 4)\n",
    "segundo_al_quinto = primos[1:5]\n",
    "print(segundo_al_quinto)"
   ]
  },
  {
   "cell_type": "code",
   "execution_count": 19,
   "metadata": {},
   "outputs": [
    {
     "name": "stdout",
     "output_type": "stream",
     "text": [
      "[ 3 11]\n"
     ]
    }
   ],
   "source": [
    "import numpy as np\n",
    "# Crear el array de números primos\n",
    "primos = np.array([2, 3, 5, 7, 11, 13, 17, 19, 23, 29])\n",
    "# Mostrar el 2º y el 5º elemento\n",
    "segundo_y_quinto = primos[[1, 4]]\n",
    "print(segundo_y_quinto)"
   ]
  },
  {
   "cell_type": "code",
   "execution_count": 20,
   "metadata": {},
   "outputs": [
    {
     "name": "stdout",
     "output_type": "stream",
     "text": [
      "[23 29]\n"
     ]
    }
   ],
   "source": [
    "import numpy as np\n",
    "# Crear el array de números primos\n",
    "primos = np.array([2, 3, 5, 7, 11, 13, 17, 19, 23, 29])\n",
    "# Mostrar el último y el penúltimo elemento\n",
    "ultimo_y_penultimo = primos[-2:]\n",
    "print(ultimo_y_penultimo)"
   ]
  },
  {
   "cell_type": "markdown",
   "metadata": {},
   "source": [
    "Ejercicio 2 \n",
    "- Crea una array de numpy con los siguiente números primos: 2, 3, 5, 7, 11, 13, 17, 19, 23, 29 pero que el array sea de tipo \"float\" de 32 bits.\n",
    "- Usando la función arange de numpy crea un array con los números del 100 al 200 pero sin incluir el 200. Muestra el resultado.\n",
    "- Usando la función range estándar de Python crea un array con los números del 100 al 200 pero sin incluir el 200. Muestra el resultado. ¿Qué diferencia hay con arange?"
   ]
  },
  {
   "cell_type": "code",
   "execution_count": 21,
   "metadata": {},
   "outputs": [
    {
     "name": "stdout",
     "output_type": "stream",
     "text": [
      "[ 2.  3.  5.  7. 11. 13. 17. 19. 23. 29.]\n"
     ]
    }
   ],
   "source": [
    "import numpy as np\n",
    "# Crear array números primos\n",
    "primos = [2, 3, 5, 7, 11, 13, 17, 19, 23, 29]\n",
    "# Crear el array de numpy de tipo float32\n",
    "array_primos = np.array (primos, dtype=np.float32)\n",
    "print (array_primos)"
   ]
  },
  {
   "cell_type": "code",
   "execution_count": 22,
   "metadata": {},
   "outputs": [
    {
     "name": "stdout",
     "output_type": "stream",
     "text": [
      "[100 101 102 103 104 105 106 107 108 109 110 111 112 113 114 115 116 117\n",
      " 118 119 120 121 122 123 124 125 126 127 128 129 130 131 132 133 134 135\n",
      " 136 137 138 139 140 141 142 143 144 145 146 147 148 149 150 151 152 153\n",
      " 154 155 156 157 158 159 160 161 162 163 164 165 166 167 168 169 170 171\n",
      " 172 173 174 175 176 177 178 179 180 181 182 183 184 185 186 187 188 189\n",
      " 190 191 192 193 194 195 196 197 198 199]\n"
     ]
    }
   ],
   "source": [
    "import numpy as np\n",
    "# Crear un array con los números del 100 al 200 sin incluir el 200\n",
    "array_numeros = np.arange(100, 200)\n",
    "print(array_numeros)"
   ]
  },
  {
   "cell_type": "code",
   "execution_count": 23,
   "metadata": {},
   "outputs": [
    {
     "name": "stdout",
     "output_type": "stream",
     "text": [
      "[100, 101, 102, 103, 104, 105, 106, 107, 108, 109, 110, 111, 112, 113, 114, 115, 116, 117, 118, 119, 120, 121, 122, 123, 124, 125, 126, 127, 128, 129, 130, 131, 132, 133, 134, 135, 136, 137, 138, 139, 140, 141, 142, 143, 144, 145, 146, 147, 148, 149, 150, 151, 152, 153, 154, 155, 156, 157, 158, 159, 160, 161, 162, 163, 164, 165, 166, 167, 168, 169, 170, 171, 172, 173, 174, 175, 176, 177, 178, 179, 180, 181, 182, 183, 184, 185, 186, 187, 188, 189, 190, 191, 192, 193, 194, 195, 196, 197, 198, 199]\n"
     ]
    }
   ],
   "source": [
    "import numpy as np\n",
    "# Crear un rango de números del 100 al 200 sin incluir el 200\n",
    "numeros = list(range(100, 200))\n",
    "print(numeros)"
   ]
  },
  {
   "cell_type": "markdown",
   "metadata": {},
   "source": [
    "Ejercicio 3\n",
    "- Crea la siguiente matriz:\n",
    "1465\n",
    "4173\n",
    "2912\n",
    "6311\n",
    "\n",
    "- Muestra el elemento de la fila 2º y la columna 3º. Es el valor del 7.\n",
    "- Muestra la 3º Fila\n",
    "- Muestra la 2º Columna\n",
    "- Muestra la 2º y 3º Columna\n",
    "- Muestra la 2º y 3º Fila\n",
    "- Muestra la última columna. Debe funcionar independientemente del número de columnas.\n",
    "- Muestra la 2º y 4º Columna y la 1º y 3º fila"
   ]
  },
  {
   "cell_type": "code",
   "execution_count": 24,
   "metadata": {},
   "outputs": [
    {
     "name": "stdout",
     "output_type": "stream",
     "text": [
      "[[1 4 6 5]\n",
      " [4 1 7 3]\n",
      " [2 9 1 2]\n",
      " [6 3 1 1]]\n"
     ]
    }
   ],
   "source": [
    "import numpy as np\n",
    "# Crear la matriz como un array de Numpy\n",
    "matriz = np.array([[1, 4, 6, 5],\n",
    "                   [4, 1, 7, 3],\n",
    "                   [2, 9, 1, 2],\n",
    "                   [6, 3, 1, 1]])\n",
    "\n",
    "print(matriz)"
   ]
  },
  {
   "cell_type": "code",
   "execution_count": 25,
   "metadata": {},
   "outputs": [
    {
     "name": "stdout",
     "output_type": "stream",
     "text": [
      "7\n"
     ]
    }
   ],
   "source": [
    "# Acceder al elemento en la fila 2 y columna 3\n",
    "elemento = matriz[1, 2]  # fila 1, columna 2 (fila 2, columna 3)\n",
    "print(elemento)"
   ]
  },
  {
   "cell_type": "code",
   "execution_count": 27,
   "metadata": {},
   "outputs": [
    {
     "name": "stdout",
     "output_type": "stream",
     "text": [
      "[2 9 1 2]\n"
     ]
    }
   ],
   "source": [
    "# Acceder a la fila 3\n",
    "elemento = matriz [2]\n",
    "print(elemento)"
   ]
  },
  {
   "cell_type": "code",
   "execution_count": 30,
   "metadata": {},
   "outputs": [
    {
     "name": "stdout",
     "output_type": "stream",
     "text": [
      "[[4]\n",
      " [1]\n",
      " [9]\n",
      " [3]]\n"
     ]
    }
   ],
   "source": [
    "# Acceder a la columna 2\n",
    "elemento = matriz [:,1:2]\n",
    "print(elemento)"
   ]
  },
  {
   "cell_type": "code",
   "execution_count": 31,
   "metadata": {},
   "outputs": [
    {
     "name": "stdout",
     "output_type": "stream",
     "text": [
      "[[4 6]\n",
      " [1 7]\n",
      " [9 1]\n",
      " [3 1]]\n"
     ]
    }
   ],
   "source": [
    "# Acceder a la columna 2 y 3\n",
    "elemento = matriz [:,1:3]\n",
    "print(elemento)"
   ]
  },
  {
   "cell_type": "code",
   "execution_count": 32,
   "metadata": {},
   "outputs": [
    {
     "name": "stdout",
     "output_type": "stream",
     "text": [
      "[[4 1 7 3]\n",
      " [2 9 1 2]]\n"
     ]
    }
   ],
   "source": [
    "# Acceder a la fila 2 y 3\n",
    "elemento = matriz [1:3,:]\n",
    "print(elemento)"
   ]
  },
  {
   "cell_type": "code",
   "execution_count": 43,
   "metadata": {},
   "outputs": [
    {
     "name": "stdout",
     "output_type": "stream",
     "text": [
      "[[5]\n",
      " [3]\n",
      " [2]\n",
      " [1]]\n"
     ]
    }
   ],
   "source": [
    "# Acceder a la ultima colunmna\n",
    "elemento = matriz [:,-1:]\n",
    "print(elemento)"
   ]
  },
  {
   "cell_type": "code",
   "execution_count": 56,
   "metadata": {},
   "outputs": [
    {
     "name": "stdout",
     "output_type": "stream",
     "text": [
      "2ª y 4ª columna:\n",
      "[[4 5]\n",
      " [1 3]\n",
      " [9 2]\n",
      " [3 1]]\n",
      "\n",
      "1ª y 3ª fila:\n",
      "[[1 4 6 5]\n",
      " [2 9 1 2]]\n"
     ]
    }
   ],
   "source": [
    "# Seleccionar la 2ª y 4ª columna\n",
    "columnas_seleccionadas = matriz[:, [1, 3]]  # Índices 1 y 3\n",
    "# Seleccionar la 1ª y 3ª fila\n",
    "filas_seleccionadas = matriz[[0, 2], :]  # Índices 0 y 2\n",
    "print(\"2ª y 4ª columna:\")\n",
    "print(columnas_seleccionadas)\n",
    "print(\"\\n1ª y 3ª fila:\")\n",
    "print(filas_seleccionadas)"
   ]
  }
 ],
 "metadata": {
  "kernelspec": {
   "display_name": "base",
   "language": "python",
   "name": "python3"
  },
  "language_info": {
   "codemirror_mode": {
    "name": "ipython",
    "version": 3
   },
   "file_extension": ".py",
   "mimetype": "text/x-python",
   "name": "python",
   "nbconvert_exporter": "python",
   "pygments_lexer": "ipython3",
   "version": "3.12.4"
  }
 },
 "nbformat": 4,
 "nbformat_minor": 2
}
